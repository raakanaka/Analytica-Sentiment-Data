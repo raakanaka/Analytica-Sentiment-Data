{
  "nbformat": 4,
  "nbformat_minor": 0,
  "metadata": {
    "colab": {
      "provenance": [],
      "authorship_tag": "ABX9TyOn2z2lJ4Wp0HWEpszZNzYa",
      "include_colab_link": true
    },
    "kernelspec": {
      "name": "python3",
      "display_name": "Python 3"
    },
    "language_info": {
      "name": "python"
    }
  },
  "cells": [
    {
      "cell_type": "markdown",
      "metadata": {
        "id": "view-in-github",
        "colab_type": "text"
      },
      "source": [
        "<a href=\"https://colab.research.google.com/github/raakanaka/Analytica-Sentiment-Data/blob/main/Scraping_Post_Native_PHP_to_Wordpress.ipynb\" target=\"_parent\"><img src=\"https://colab.research.google.com/assets/colab-badge.svg\" alt=\"Open In Colab\"/></a>"
      ]
    },
    {
      "cell_type": "code",
      "execution_count": null,
      "metadata": {
        "id": "BTmC8UArBGGp"
      },
      "outputs": [],
      "source": [
        "import requests\n",
        "from bs4 import BeautifulSoup\n",
        "from requests.auth import HTTPBasicAuth\n",
        "import datetime\n",
        "\n",
        "# --- SETUP WP ---\n",
        "WP_URL = 'https://https://aidig-system.com/dinas-kehutanan/wp-json/wp/v2/posts'\n",
        "WP_USER = 'client'\n",
        "WP_APP_PASSWORD = 'client123'\n",
        "\n",
        "# --- SCRAPE BERITA ---\n",
        "BERITA_URL = 'https://dishut.kalteng.go.id/berita'\n",
        "resp = requests.get(BERITA_URL)\n",
        "soup = BeautifulSoup(resp.content, 'html.parser')\n",
        "\n",
        "# Sesuaikan dengan struktur aktual\n",
        "artikel_divs = soup.find_all('div', class_='elementor-post')  # atau apapun class-nya\n",
        "\n",
        "for div in artikel_divs:\n",
        "    # Judul dan URL\n",
        "    link_tag = div.find('a', href=True)\n",
        "    title = link_tag.get_text(strip=True)\n",
        "    article_url = link_tag['href']\n",
        "\n",
        "    # Kunjungi halaman artikel\n",
        "    artikel_resp = requests.get(article_url)\n",
        "    artikel_soup = BeautifulSoup(artikel_resp.content, 'html.parser')\n",
        "\n",
        "    # Ambil isi artikel (sesuaikan selector-nya)\n",
        "    content_div = artikel_soup.find('div', class_='elementor-widget-theme-post-content')\n",
        "    content_html = str(content_div) if content_div else '<p>[Konten tidak ditemukan]</p>'\n",
        "\n",
        "    # Ambil tanggal jika ada, atau pakai hari ini\n",
        "    tanggal = datetime.datetime.now().isoformat()\n",
        "\n",
        "    # --- POST ke WordPress ---\n",
        "    post_data = {\n",
        "        'title': title,\n",
        "        'content': content_html,\n",
        "        'status': 'publish',\n",
        "        'date': tanggal,\n",
        "    }\n",
        "\n",
        "    res = requests.post(WP_URL, json=post_data, auth=HTTPBasicAuth(WP_USER, WP_APP_PASSWORD))\n",
        "\n",
        "    if res.status_code == 201:\n",
        "        print(f\"✅ Berhasil posting: {title}\")\n",
        "    else:\n",
        "        print(f\"❌ Gagal posting: {title} ({res.status_code})\")\n",
        "        print(res.text)\n"
      ]
    }
  ]
}